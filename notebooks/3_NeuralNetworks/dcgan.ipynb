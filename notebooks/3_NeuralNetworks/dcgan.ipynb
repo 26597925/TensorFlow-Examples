{
 "cells": [
  {
   "cell_type": "code",
   "execution_count": null,
   "metadata": {
    "collapsed": true
   },
   "outputs": [],
   "source": []
  },
  {
   "cell_type": "code",
   "execution_count": 1,
   "metadata": {
    "collapsed": true
   },
   "outputs": [],
   "source": [
    "from __future__ import division, print_function, absolute_import\n",
    "\n",
    "import matplotlib.pyplot as plt\n",
    "import numpy as np\n",
    "import tensorflow as tf"
   ]
  },
  {
   "cell_type": "code",
   "execution_count": 2,
   "metadata": {
    "collapsed": false
   },
   "outputs": [
    {
     "name": "stdout",
     "output_type": "stream",
     "text": [
      "Extracting /tmp/data/train-images-idx3-ubyte.gz\n",
      "Extracting /tmp/data/train-labels-idx1-ubyte.gz\n",
      "Extracting /tmp/data/t10k-images-idx3-ubyte.gz\n",
      "Extracting /tmp/data/t10k-labels-idx1-ubyte.gz\n"
     ]
    }
   ],
   "source": [
    "# Import MNIST data\n",
    "from tensorflow.examples.tutorials.mnist import input_data\n",
    "mnist = input_data.read_data_sets(\"/tmp/data/\", one_hot=True)"
   ]
  },
  {
   "cell_type": "code",
   "execution_count": 9,
   "metadata": {
    "collapsed": true
   },
   "outputs": [],
   "source": [
    "# Training Params\n",
    "num_steps = 20000\n",
    "batch_size = 32\n",
    "\n",
    "# Network Params\n",
    "image_dim = 784 # 28*28 pixels * 1 channel\n",
    "gen_hidden_dim = 256\n",
    "disc_hidden_dim = 256\n",
    "noise_dim = 200 # Noise data points"
   ]
  },
  {
   "cell_type": "code",
   "execution_count": 4,
   "metadata": {
    "collapsed": true
   },
   "outputs": [],
   "source": [
    "# Generator Network\n",
    "# Input: Noise, Output: Image\n",
    "def generator(x, reuse=False):\n",
    "    with tf.variable_scope('Generator', reuse=reuse):\n",
    "        # TensorFlow Layers automatically create variables and calculate their\n",
    "        # shape, based on the input.\n",
    "        x = tf.layers.dense(x, units=6 * 6 * 128)\n",
    "        x = tf.nn.tanh(x)\n",
    "        # Reshape to a 4-D array of images: (batch, height, width, channels)\n",
    "        # New shape: (batch, 6, 6, 128)\n",
    "        x = tf.reshape(x, shape=[-1, 6, 6, 128])\n",
    "        # Deconvolution, image shape: (batch, 14, 14, 64)\n",
    "        x = tf.layers.conv2d_transpose(x, 64, 4, strides=2)\n",
    "        # Deconvolution, image shape: (batch, 28, 28, 1)\n",
    "        x = tf.layers.conv2d_transpose(x, 1, 2, strides=2)\n",
    "        # Apply sigmoid to clip values between 0 and 1\n",
    "        x = tf.nn.sigmoid(x)\n",
    "        return x\n",
    "\n",
    "\n",
    "# Discriminator Network\n",
    "# Input: Image, Output: Prediction Real/Fake Image\n",
    "def discriminator(x, reuse=False):\n",
    "    with tf.variable_scope('Discriminator', reuse=reuse):\n",
    "        # Typical convolutional neural network to classify images.\n",
    "        x = tf.layers.conv2d(x, 64, 5)\n",
    "        x = tf.nn.tanh(x)\n",
    "        x = tf.layers.average_pooling2d(x, 2, 2)\n",
    "        x = tf.layers.conv2d(x, 128, 5)\n",
    "        x = tf.nn.tanh(x)\n",
    "        x = tf.layers.average_pooling2d(x, 2, 2)\n",
    "        x = tf.contrib.layers.flatten(x)\n",
    "        x = tf.layers.dense(x, 1024)\n",
    "        x = tf.nn.tanh(x)\n",
    "        # Output 2 classes: Real and Fake images\n",
    "        x = tf.layers.dense(x, 2)\n",
    "    return x\n",
    "\n",
    "# Build Networks\n",
    "# Network Inputs\n",
    "noise_input = tf.placeholder(tf.float32, shape=[None, noise_dim])\n",
    "real_image_input = tf.placeholder(tf.float32, shape=[None, 28, 28, 1])\n",
    "\n",
    "# Build Generator Network\n",
    "gen_sample = generator(noise_input)\n",
    "\n",
    "# Build 2 Discriminator Networks (one from noise input, one from generated samples)\n",
    "disc_real = discriminator(real_image_input)\n",
    "disc_fake = discriminator(gen_sample, reuse=True)\n",
    "disc_concat = tf.concat([disc_real, disc_fake], axis=0)\n",
    "\n",
    "# Build the stacked generator/discriminator\n",
    "stacked_gan = discriminator(gen_sample, reuse=True)\n",
    "\n",
    "# Build Targets (real or fake images)\n",
    "disc_target = tf.placeholder(tf.int32, shape=[None])\n",
    "gen_target = tf.placeholder(tf.int32, shape=[None])\n",
    "\n",
    "# Build Loss\n",
    "disc_loss = tf.reduce_mean(tf.nn.sparse_softmax_cross_entropy_with_logits(\n",
    "    logits=disc_concat, labels=disc_target))\n",
    "gen_loss = tf.reduce_mean(tf.nn.sparse_softmax_cross_entropy_with_logits(\n",
    "    logits=stacked_gan, labels=gen_target))\n",
    "\n",
    "# Build Optimizers\n",
    "optimizer_gen = tf.train.AdamOptimizer(learning_rate=0.001)\n",
    "optimizer_disc = tf.train.AdamOptimizer(learning_rate=0.001)\n",
    "\n",
    "# Training Variables for each optimizer\n",
    "# By default in TensorFlow, all variables are updated by each optimizer, so we\n",
    "# need to precise for each one of them the specific variables to update.\n",
    "# Generator Network Variables\n",
    "gen_vars = tf.get_collection(tf.GraphKeys.TRAINABLE_VARIABLES, scope='Generator')\n",
    "# Discriminator Network Variables\n",
    "disc_vars = tf.get_collection(tf.GraphKeys.TRAINABLE_VARIABLES, scope='Discriminator')\n",
    "\n",
    "# Create training operations\n",
    "train_gen = optimizer_gen.minimize(gen_loss, var_list=gen_vars)\n",
    "train_disc = optimizer_disc.minimize(disc_loss, var_list=disc_vars)"
   ]
  },
  {
   "cell_type": "code",
   "execution_count": 10,
   "metadata": {
    "collapsed": false
   },
   "outputs": [
    {
     "name": "stdout",
     "output_type": "stream",
     "text": [
      "Step 1: Generator Loss: 0.681313, Discriminator Loss: 0.696048\n",
      "Step 1000: Generator Loss: 4.661900, Discriminator Loss: 0.159617\n",
      "Step 2000: Generator Loss: 5.742433, Discriminator Loss: 0.090844\n",
      "Step 3000: Generator Loss: 6.892461, Discriminator Loss: 0.026230\n",
      "Step 4000: Generator Loss: 5.020532, Discriminator Loss: 0.015655\n",
      "Step 5000: Generator Loss: 5.856355, Discriminator Loss: 0.103759\n",
      "Step 6000: Generator Loss: 5.562930, Discriminator Loss: 0.133212\n",
      "Step 7000: Generator Loss: 4.755675, Discriminator Loss: 0.011252\n",
      "Step 8000: Generator Loss: 4.523346, Discriminator Loss: 0.107898\n",
      "Step 9000: Generator Loss: 4.274240, Discriminator Loss: 0.059357\n",
      "Step 10000: Generator Loss: 5.600301, Discriminator Loss: 0.092585\n",
      "Step 11000: Generator Loss: 4.123196, Discriminator Loss: 0.137491\n",
      "Step 12000: Generator Loss: 3.959795, Discriminator Loss: 0.080210\n",
      "Step 13000: Generator Loss: 2.617940, Discriminator Loss: 0.165060\n",
      "Step 14000: Generator Loss: 3.607795, Discriminator Loss: 0.147673\n",
      "Step 15000: Generator Loss: 4.544607, Discriminator Loss: 0.042620\n",
      "Step 16000: Generator Loss: 3.631723, Discriminator Loss: 0.051353\n",
      "Step 17000: Generator Loss: 3.871276, Discriminator Loss: 0.097605\n",
      "Step 18000: Generator Loss: 3.185538, Discriminator Loss: 0.147659\n",
      "Step 19000: Generator Loss: 3.885968, Discriminator Loss: 0.076588\n",
      "Step 20000: Generator Loss: 3.484254, Discriminator Loss: 0.039990\n"
     ]
    }
   ],
   "source": [
    "# Initializing all variables\n",
    "init = tf.global_variables_initializer()\n",
    "\n",
    "# Launch the graph\n",
    "sess = tf.Session()\n",
    "sess.run(init)\n",
    "\n",
    "# Training\n",
    "for i in range(1, num_steps+1):\n",
    "\n",
    "    # Prepare Input Data\n",
    "    # Get the next batch of MNIST data (only images are needed, not labels)\n",
    "    batch_x, _ = mnist.train.next_batch(batch_size)\n",
    "    batch_x = np.reshape(batch_x, newshape=[-1, 28, 28, 1])\n",
    "    # Generate noise to feed to the generator\n",
    "    z = np.random.uniform(-1., 1., size=[batch_size, noise_dim])\n",
    "\n",
    "    # Prepare Targets (Real image: 1, Fake image: 0)\n",
    "    # The first half of data fed to the generator are real images,\n",
    "    # the other half are fake images (coming from the generator).\n",
    "    batch_disc_y = np.concatenate(\n",
    "        [np.ones([batch_size]), np.zeros([batch_size])], axis=0)\n",
    "    # Generator tries to fool the discriminator, thus targets are 1.\n",
    "    batch_gen_y = np.ones([batch_size])\n",
    "\n",
    "    # Training\n",
    "    feed_dict = {real_image_input: batch_x, noise_input: z,\n",
    "                 disc_target: batch_disc_y, gen_target: batch_gen_y}\n",
    "    _, _, gl, dl = sess.run([train_gen, train_disc, gen_loss, disc_loss],\n",
    "                            feed_dict=feed_dict)\n",
    "    if i % 1000 == 0 or i == 1:\n",
    "        print('Step %i: Generator Loss: %f, Discriminator Loss: %f' % (i, gl, dl))"
   ]
  },
  {
   "cell_type": "code",
   "execution_count": 12,
   "metadata": {
    "collapsed": false
   },
   "outputs": [
    {
     "data": {
      "image/png": "[encoded data removed]",
      "text/plain": [
       "<matplotlib.figure.Figure at 0x7f021150bdd0>"
      ]
     },
     "metadata": {},
     "output_type": "display_data"
    }
   ],
   "source": [
    "# Generate images from noise, using the generator network.\n",
    "n = 6\n",
    "canvas = np.empty((28 * n, 28 * n))\n",
    "for i in range(n):\n",
    "    # Noise input.\n",
    "    z = np.random.uniform(-1., 1., size=[n, noise_dim])\n",
    "    # Generate image from noise.\n",
    "    g = sess.run([gen_sample], feed_dict={noise_input: z})\n",
    "    for j in range(n):\n",
    "        # Draw the generated digits\n",
    "        canvas[i * 28:(i + 1) * 28, j * 28:(j + 1) * 28] = g[j].reshape([28, 28])\n",
    "\n",
    "plt.figure(figsize=(n, n))\n",
    "plt.imshow(canvas, origin=\"upper\", cmap=\"gray\")\n",
    "plt.show()"
   ]
  },
  {
   "cell_type": "code",
   "execution_count": null,
   "metadata": {
    "collapsed": true
   },
   "outputs": [],
   "source": []
  }
 ],
 "metadata": {
  "kernelspec": {
   "display_name": "Python 2",
   "language": "python",
   "name": "python2"
  },
  "language_info": {
   "codemirror_mode": {
    "name": "ipython",
    "version": 2
   },
   "file_extension": ".py",
   "mimetype": "text/x-python",
   "name": "python",
   "nbconvert_exporter": "python",
   "pygments_lexer": "ipython2",
   "version": "2.7.13"
  }
 },
 "nbformat": 4,
 "nbformat_minor": 2
}
